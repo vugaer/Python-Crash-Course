{
  "nbformat": 4,
  "nbformat_minor": 0,
  "metadata": {
    "colab": {
      "provenance": []
    },
    "kernelspec": {
      "name": "python3",
      "display_name": "Python 3"
    },
    "language_info": {
      "name": "python"
    }
  },
  "cells": [
    {
      "cell_type": "markdown",
      "source": [
        "1) Get the keys from the dictionaries named *sample_dic* as a list\n",
        "```\n",
        "sample_dict = {\n",
        "    'Physics': 82,\n",
        "    'Math': 65,\n",
        "    'history': 75\n",
        "}\n",
        "```\n",
        "\n"
      ],
      "metadata": {
        "id": "t0LHIhxSJLoq"
      }
    },
    {
      "cell_type": "code",
      "source": [
        "sample_dict = {\n",
        "    'Physics': 82,\n",
        "    'Math': 65,\n",
        "    'history': 75\n",
        "}\n",
        "\n",
        "my_list = [key for key in sample_dict.keys()]\n",
        "my_list"
      ],
      "metadata": {
        "id": "KBJKZk50omNW",
        "outputId": "1873692c-39b4-43b0-a226-54e21e131c76",
        "colab": {
          "base_uri": "https://localhost:8080/"
        }
      },
      "execution_count": null,
      "outputs": [
        {
          "output_type": "execute_result",
          "data": {
            "text/plain": [
              "['Physics', 'Math', 'history']"
            ]
          },
          "metadata": {},
          "execution_count": 2
        }
      ]
    },
    {
      "cell_type": "markdown",
      "source": [
        "2) Get sum of all the values in a dict\n",
        "\n",
        "```\n",
        "#Input:\n",
        "sample_dict = {\n",
        "    'Physics': 82,\n",
        "    'Math': 65,\n",
        "    'history': 75,\n",
        "    'chemistry': 89,\n",
        "    'GK': 50\n",
        "    \n",
        "}\n",
        "\n",
        "#Expected Output: 361\n",
        "\n",
        "```"
      ],
      "metadata": {
        "id": "w5sNggvfKBPs"
      }
    },
    {
      "cell_type": "code",
      "source": [
        "sample_dict = {\n",
        "    'Physics': 82,\n",
        "    'Math': 65,\n",
        "    'history': 75,\n",
        "    'chemistry': 89,\n",
        "    'GK': 50\n",
        "\n",
        "}\n",
        "\n",
        "print(sum(sample_dict.values()))"
      ],
      "metadata": {
        "id": "UpKGXi2_o3s2",
        "outputId": "1d5007f1-8245-4ebf-f237-1be0098a891c",
        "colab": {
          "base_uri": "https://localhost:8080/"
        }
      },
      "execution_count": null,
      "outputs": [
        {
          "output_type": "stream",
          "name": "stdout",
          "text": [
            "361\n"
          ]
        }
      ]
    },
    {
      "cell_type": "markdown",
      "source": [
        "3)Get the key of a minimum value from the following dictionary\n",
        "\n",
        "```\n",
        "#Input:\n",
        "sample_dict = {\n",
        "  'Physics': 82,\n",
        "  'Math': 65,\n",
        "  'history': 75\n",
        "}\n",
        "\n",
        "#Expected Output: Math\n",
        "\n",
        "```"
      ],
      "metadata": {
        "id": "hXoPfj4-JXko"
      }
    },
    {
      "cell_type": "code",
      "source": [
        "sample_dict = {\n",
        "  'Physics': 82,\n",
        "  'Math': 65,\n",
        "  'history': 75\n",
        "}\n",
        "\n",
        "for key in sample_dict:\n",
        "  if sample_dict[key]==min(sample_dict.values()):\n",
        "    print(key)"
      ],
      "metadata": {
        "id": "eXxWC9DNpTxt",
        "outputId": "ddedb27f-c7b4-4a1a-9809-a9a9b3835892",
        "colab": {
          "base_uri": "https://localhost:8080/"
        }
      },
      "execution_count": null,
      "outputs": [
        {
          "output_type": "stream",
          "name": "stdout",
          "text": [
            "Math\n"
          ]
        }
      ]
    },
    {
      "cell_type": "markdown",
      "source": [
        "4) Delete a list of keys from a dictionary\n",
        "```\n",
        "#Inputs:\n",
        "sample_dict = {\n",
        "    \"name\": \"Khalid\",\n",
        "    \"age\": 23,\n",
        "    \"salary\": 1000,\n",
        "    \"city\": \"Baku\"\n",
        "}\n",
        "\n",
        "# Keys to remove\n",
        "keys = [\"name\", \"salary\"]\n",
        "\n",
        "# Expected Output: {'city': 'Baku', 'age': 23}\n",
        "```"
      ],
      "metadata": {
        "id": "CTSGF0hmJgDD"
      }
    },
    {
      "cell_type": "code",
      "source": [
        "sample_dict = {\n",
        "    \"name\": \"Khalid\",\n",
        "    \"age\": 23,\n",
        "    \"salary\": 1000,\n",
        "    \"city\": \"Baku\"\n",
        "}\n",
        "\n",
        "# Keys to remove\n",
        "keys = [\"name\", \"salary\"]\n",
        "\n",
        "for i in keys:\n",
        "  sample_dict.pop(i)\n",
        "\n",
        "sample_dict"
      ],
      "metadata": {
        "id": "kNzGjKVkp8Ji",
        "outputId": "9673635a-f67f-4734-8370-5a7140bab3db",
        "colab": {
          "base_uri": "https://localhost:8080/"
        }
      },
      "execution_count": null,
      "outputs": [
        {
          "output_type": "execute_result",
          "data": {
            "text/plain": [
              "{'age': 23, 'city': 'Baku'}"
            ]
          },
          "metadata": {},
          "execution_count": 12
        }
      ]
    },
    {
      "cell_type": "markdown",
      "source": [
        "5) Create a dictionary by extracting the keys from a given dictionary\n",
        "\n",
        "```\n",
        "# Inputs:\n",
        "sample_dict = {\n",
        "    \"name\": \"Khalid\",\n",
        "    \"age\": 23,\n",
        "    \"salary\": 1000,\n",
        "    \"city\": \"Baku\"}\n",
        "\n",
        "# Keys to extract\n",
        "keys = [\"name\", \"salary\"]\n",
        "\n",
        "# Expected Output: {'name': 'Khalid', 'salary': 1000}\n",
        "```"
      ],
      "metadata": {
        "id": "keTauTOfJ0RA"
      }
    },
    {
      "cell_type": "code",
      "source": [
        "sample_dict = {\n",
        "    \"name\": \"Khalid\",\n",
        "    \"age\": 23,\n",
        "    \"salary\": 1000,\n",
        "    \"city\": \"Baku\"}\n",
        "\n",
        "# Keys to extract\n",
        "keys = [\"name\", \"salary\"]\n",
        "\n",
        "new_dict = {}\n",
        "\n",
        "for i in keys:\n",
        "  new_dict[i]=sample_dict[i]\n",
        "\n",
        "print(new_dict)"
      ],
      "metadata": {
        "id": "QfVyDvGUqutM",
        "outputId": "0639828f-4245-4900-8699-b127fcf33997",
        "colab": {
          "base_uri": "https://localhost:8080/"
        }
      },
      "execution_count": null,
      "outputs": [
        {
          "output_type": "stream",
          "name": "stdout",
          "text": [
            "{'name': 'Khalid', 'salary': 1000}\n"
          ]
        }
      ]
    },
    {
      "cell_type": "markdown",
      "source": [
        "6) Take 10 integers from keyboard using loop and print their average value\n",
        "on the screen."
      ],
      "metadata": {
        "id": "KW4qi0i5KNQd"
      }
    },
    {
      "cell_type": "markdown",
      "source": [
        "7) Print multiplication table of 24 using loop."
      ],
      "metadata": {
        "id": "yTkI4J3aKOrs"
      }
    },
    {
      "cell_type": "code",
      "source": [
        "my_list = ['%d*%d=%d'%(24,i,24*i) for i in range(1,11)]\n",
        "\n",
        "for i in my_list:\n",
        "  print(i)"
      ],
      "metadata": {
        "id": "c0SM7vb_tmjA",
        "outputId": "47b3c28c-9bd8-41e8-ef67-e58af6afcc83",
        "colab": {
          "base_uri": "https://localhost:8080/"
        }
      },
      "execution_count": null,
      "outputs": [
        {
          "output_type": "stream",
          "name": "stdout",
          "text": [
            "24*1=24\n",
            "24*2=48\n",
            "24*3=72\n",
            "24*4=96\n",
            "24*5=120\n",
            "24*6=144\n",
            "24*7=168\n",
            "24*8=192\n",
            "24*9=216\n",
            "24*10=240\n"
          ]
        }
      ]
    },
    {
      "cell_type": "markdown",
      "source": [
        "8) Factorial of any number n is represented by n! and is equal to 1*2*3*....*(n-1)*n.\n",
        "\n",
        "Write a program to calculate factorial of a number.\n",
        "\n",
        "```\n",
        "4! = 1*2*3*4 = 24\n",
        "3! = 3*2*1 = 6\n",
        "2! = 2*1 = 2\n",
        "\n",
        "Also,\n",
        "1! = 1\n",
        "0! = 1\n",
        "```\n"
      ],
      "metadata": {
        "id": "PpkgIjOEKUU0"
      }
    },
    {
      "cell_type": "code",
      "source": [
        "def print_factorial(n):\n",
        "  my_str = ''\n",
        "  result=1\n",
        "  for i in range(1,n+1):\n",
        "    my_str+=str(i)\n",
        "    if i!=n:\n",
        "      my_str+='*'\n",
        "    result*=i\n",
        "  if n==1:\n",
        "    print('\\nAlso')\n",
        "  if n==0 or n==1:\n",
        "    print('%d! = %s'%(n, result))\n",
        "  else:\n",
        "    print('%d! = %s = %s'%(n, my_str, result))\n",
        "\n",
        "n = int(input('insert a number: '))\n",
        "\n",
        "for i in range(n,-1,-1):\n",
        "  print_factorial(i)"
      ],
      "metadata": {
        "id": "NnHK-OMjtyvC",
        "outputId": "47937676-ef0e-4fb1-cc0b-e03ecd039259",
        "colab": {
          "base_uri": "https://localhost:8080/"
        }
      },
      "execution_count": null,
      "outputs": [
        {
          "output_type": "stream",
          "name": "stdout",
          "text": [
            "insert a number: 8\n",
            "8! = 1*2*3*4*5*6*7*8 = 40320\n",
            "7! = 1*2*3*4*5*6*7 = 5040\n",
            "6! = 1*2*3*4*5*6 = 720\n",
            "5! = 1*2*3*4*5 = 120\n",
            "4! = 1*2*3*4 = 24\n",
            "3! = 1*2*3 = 6\n",
            "2! = 1*2 = 2\n",
            "\n",
            "Also\n",
            "1! = 1\n",
            "0! = 1\n"
          ]
        }
      ]
    },
    {
      "cell_type": "markdown",
      "source": [
        "9) Write a program that calculates the sum of the digits of a given number. Ask the user to input a number"
      ],
      "metadata": {
        "id": "1V-KIxBHKjiU"
      }
    },
    {
      "cell_type": "code",
      "source": [
        "n = int(input('type a number: '))\n",
        "cem=0\n",
        "\n",
        "while n>0:\n",
        "  dgts = n%10\n",
        "  n//=10\n",
        "  cem+=dgts\n",
        "\n",
        "print(cem)"
      ],
      "metadata": {
        "id": "ytiitMM7DgFU",
        "outputId": "7684a678-4c58-4bbd-dbac-a945f81cd817",
        "colab": {
          "base_uri": "https://localhost:8080/"
        }
      },
      "execution_count": null,
      "outputs": [
        {
          "output_type": "stream",
          "name": "stdout",
          "text": [
            "type a number: 1234\n",
            "10\n"
          ]
        }
      ]
    },
    {
      "cell_type": "markdown",
      "source": [
        "10) Write a Python program that takes a string input from the user and counts the number of characters in the string."
      ],
      "metadata": {
        "id": "cLIPyMzuLLUU"
      }
    },
    {
      "cell_type": "code",
      "execution_count": null,
      "metadata": {
        "id": "pmqLrrVLJLGs",
        "outputId": "759bbefc-0d02-460d-e7fc-d36d4bc2a911",
        "colab": {
          "base_uri": "https://localhost:8080/"
        }
      },
      "outputs": [
        {
          "output_type": "stream",
          "name": "stdout",
          "text": [
            "1231231asda dvidcgs \n",
            "20\n"
          ]
        }
      ],
      "source": [
        "x= input()\n",
        "\n",
        "print(len(x))"
      ]
    }
  ]
}
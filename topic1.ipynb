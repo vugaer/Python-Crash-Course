{
  "cells": [
    {
      "cell_type": "markdown",
      "metadata": {
        "id": "MRDl-lfx7haM"
      },
      "source": [
        "**1)** Create a class with names of fruits and add a new fruit, \"fig\", to the end of the list and print the updated list.\n",
        "\n",
        "**2)** Create a list with the ages of the children in the class and print the length of the list.\n",
        "\n",
        "**3)** Insert a new fruit, \"grape\", at the second position in the list and print the updated list.\n",
        "\n",
        "**4)** Remove a specific fruit, \"fig\", from the list using the remove method and print the updated list.\n",
        "\n",
        "**5)** Print the last fruit in the list after sorting it in reverse alphabetical order using the sort method.\n",
        "\n",
        "**6)** Create a copy of the list sorted in alphabetical order without modifying the original list, and print both lists.\n",
        "\n",
        "**7)** Delete the values from the first element up to the fourth element in the list given below\n",
        "\n",
        "zodiac_signs = [\"Aries\", \"Taurus\", \"Gemini\", \"Cancer\", \"Capricorn\"]\n",
        "\n",
        "**8)** Prompt the user to enter a name, then print the second letter of the entered name to the screen.\n",
        "\n",
        "**9)** Create a program that asks the user to enter their name and their age. Print out a message addressed to them that tells them the year that they will turn 100 years old. For example,\n",
        "\n",
        "What is your name? Khalid\n",
        "\n",
        "How old are you? 23\n",
        "\n",
        "Khalid will be 100 years old in the year 2101\n",
        "\n",
        "**10)** Write a Python program that accepts an integer (n) and computes the value of n+nn+nnn. Get Input from user. For example, 5 + 55 + 555 = 615"
      ]
    },
    {
      "cell_type": "markdown",
      "metadata": {},
      "source": [
        "**First Question**"
      ]
    },
    {
      "cell_type": "code",
      "execution_count": 59,
      "metadata": {},
      "outputs": [
        {
          "name": "stdout",
          "output_type": "stream",
          "text": [
            "['apple', 'avocado', 'banana', 'fig']\n"
          ]
        }
      ],
      "source": [
        "fruits = ['apple','avocado', 'banana']\n",
        "\n",
        "fruits += ['fig'] \n",
        "\n",
        "print(fruits)"
      ]
    },
    {
      "cell_type": "markdown",
      "metadata": {},
      "source": [
        "**Second Question**"
      ]
    },
    {
      "cell_type": "code",
      "execution_count": 60,
      "metadata": {},
      "outputs": [
        {
          "name": "stdout",
          "output_type": "stream",
          "text": [
            "10\n"
          ]
        }
      ],
      "source": [
        "ages = [18, 18, 19, 18, 16, 17, 15, 21, 19, 16]\n",
        "\n",
        "print(len(ages))"
      ]
    },
    {
      "cell_type": "markdown",
      "metadata": {},
      "source": [
        "**Third Question**"
      ]
    },
    {
      "cell_type": "code",
      "execution_count": 61,
      "metadata": {},
      "outputs": [
        {
          "name": "stdout",
          "output_type": "stream",
          "text": [
            "['apple', 'avocado', 'grape', 'banana', 'fig']\n"
          ]
        }
      ],
      "source": [
        "fruits.insert(2, 'grape')\n",
        "\n",
        "print(fruits)"
      ]
    },
    {
      "cell_type": "markdown",
      "metadata": {},
      "source": [
        "**Fourth Question**"
      ]
    },
    {
      "cell_type": "code",
      "execution_count": 62,
      "metadata": {},
      "outputs": [
        {
          "name": "stdout",
          "output_type": "stream",
          "text": [
            "['apple', 'avocado', 'grape', 'banana']\n"
          ]
        }
      ],
      "source": [
        "fruits.remove('fig')\n",
        "\n",
        "print(fruits)"
      ]
    },
    {
      "cell_type": "markdown",
      "metadata": {},
      "source": [
        "**Fifth Question**"
      ]
    },
    {
      "cell_type": "code",
      "execution_count": 66,
      "metadata": {},
      "outputs": [
        {
          "name": "stdout",
          "output_type": "stream",
          "text": [
            "apple\n"
          ]
        }
      ],
      "source": [
        "fruits.sort(reverse=True)\n",
        "\n",
        "print(fruits[-1])"
      ]
    },
    {
      "cell_type": "markdown",
      "metadata": {},
      "source": [
        "**Sixth Question**"
      ]
    },
    {
      "cell_type": "code",
      "execution_count": 67,
      "metadata": {},
      "outputs": [
        {
          "name": "stdout",
          "output_type": "stream",
          "text": [
            "['grape', 'banana', 'avocado', 'apple']\n",
            "['apple', 'avocado', 'banana', 'grape']\n"
          ]
        }
      ],
      "source": [
        "print(fruits) # reverse sorted\n",
        "print(sorted(fruits)) # straight sorted"
      ]
    },
    {
      "cell_type": "markdown",
      "metadata": {},
      "source": [
        "**Seventh Question**"
      ]
    },
    {
      "cell_type": "code",
      "execution_count": 92,
      "metadata": {},
      "outputs": [
        {
          "name": "stdout",
          "output_type": "stream",
          "text": [
            "['Capricorn']\n"
          ]
        }
      ],
      "source": [
        "zodiac_signs = [\"Aries\", \"Taurus\", \"Gemini\", \"Cancer\", \"Capricorn\"]\n",
        "\n",
        "def remove_range(lst,start,stop):\n",
        "    \"\"\"lst means your list to be range-removed\n",
        "    start means the range to be started. First element is 1\n",
        "    stop means the finish range.\n",
        "    Note: It temporarily assigns.\"\"\"\n",
        "    \n",
        "    start-=1\n",
        "    new_list = []\n",
        "    for i in range(len(lst)):\n",
        "        if not (i>=start and i<stop):\n",
        "            new_list += [lst[i]]\n",
        "    return new_list\n",
        "\n",
        "print(remove_range(zodiac_signs,1,4)) # remove_range(list_name, start point)"
      ]
    },
    {
      "cell_type": "markdown",
      "metadata": {},
      "source": [
        "**Eighth Question**"
      ]
    },
    {
      "cell_type": "code",
      "execution_count": 93,
      "metadata": {},
      "outputs": [
        {
          "name": "stdout",
          "output_type": "stream",
          "text": [
            "u\n"
          ]
        }
      ],
      "source": [
        "name = input('Enter your name: ')\n",
        "\n",
        "print(name[1])"
      ]
    },
    {
      "cell_type": "markdown",
      "metadata": {},
      "source": [
        "**Nineth Question**"
      ]
    },
    {
      "cell_type": "code",
      "execution_count": 95,
      "metadata": {},
      "outputs": [
        {
          "name": "stdout",
          "output_type": "stream",
          "text": [
            "Kahlid will be 100 years old in 2101 year.\n"
          ]
        }
      ],
      "source": [
        "from datetime import datetime\n",
        "\n",
        "name = input('Enter your name: ')\n",
        "age = int(input('Enter your age: '))\n",
        "current_year = datetime.now().year # 2024 in this case\n",
        "\n",
        "print('%s will be 100 years old in %d'%(name.title(), current_year-age+100))"
      ]
    },
    {
      "cell_type": "markdown",
      "metadata": {},
      "source": [
        "**Tenth Question**"
      ]
    },
    {
      "cell_type": "code",
      "execution_count": 96,
      "metadata": {},
      "outputs": [
        {
          "name": "stdout",
          "output_type": "stream",
          "text": [
            "615\n"
          ]
        }
      ],
      "source": [
        "number = input('Enter a number: ')\n",
        "\n",
        "\n",
        "print(int(number)+int(number*2)+int(number*3))"
      ]
    }
  ],
  "metadata": {
    "colab": {
      "provenance": []
    },
    "kernelspec": {
      "display_name": "Python 3",
      "name": "python3"
    },
    "language_info": {
      "codemirror_mode": {
        "name": "ipython",
        "version": 3
      },
      "file_extension": ".py",
      "mimetype": "text/x-python",
      "name": "python",
      "nbconvert_exporter": "python",
      "pygments_lexer": "ipython3",
      "version": "3.12.3"
    }
  },
  "nbformat": 4,
  "nbformat_minor": 0
}
